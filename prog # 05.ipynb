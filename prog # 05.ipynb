{
 "cells": [
  {
   "cell_type": "code",
   "execution_count": 12,
   "metadata": {},
   "outputs": [
    {
     "name": "stdout",
     "output_type": "stream",
     "text": [
      "The 1st Three Dishes are mentioned below!!!\n",
      "['biryani', 'haleem', 'karahi']\n",
      "The 2nd Three Dishes are mentioned below!!!\n",
      "['chicken', 'chiness rice', 'dish01']\n",
      "The 3rd Three Dishes are mentioned below!!!\n",
      "['dish02', 'dish03', 'dish04']\n"
     ]
    }
   ],
   "source": [
    "foods=[\"biryani\",\"haleem\",\"karahi\",\"chicken\",\"chiness rice\",\"dish01\",\"dish02\",\"dish03\",\"dish04\"]\n",
    "\n",
    "dish01=foods[0:3]\n",
    "dish02=foods[3:6]\n",
    "dish03=foods[6:9]\n",
    "print(\"The 1st Three Dishes are mentioned below!!!\")\n",
    "print(dish01)\n",
    "\n",
    "print(\"The 2nd Three Dishes are mentioned below!!!\")\n",
    "print(dish02)\n",
    "\n",
    "\n",
    "print(\"The 3rd Three Dishes are mentioned below!!!\")\n",
    "print(dish03)\n"
   ]
  }
 ],
 "metadata": {
  "kernelspec": {
   "display_name": "Python 3",
   "language": "python",
   "name": "python3"
  },
  "language_info": {
   "codemirror_mode": {
    "name": "ipython",
    "version": 3
   },
   "file_extension": ".py",
   "mimetype": "text/x-python",
   "name": "python",
   "nbconvert_exporter": "python",
   "pygments_lexer": "ipython3",
   "version": "3.7.4"
  }
 },
 "nbformat": 4,
 "nbformat_minor": 2
}
