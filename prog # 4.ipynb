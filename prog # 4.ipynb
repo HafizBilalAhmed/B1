{
 "cells": [
  {
   "cell_type": "code",
   "execution_count": 3,
   "metadata": {},
   "outputs": [
    {
     "name": "stdout",
     "output_type": "stream",
     "text": [
      "Enter a char to check wether it's vowel or not!!!f\n",
      "f is not  a vowel!!!\n"
     ]
    }
   ],
   "source": [
    "vowel=[\"a\",\"e\",\"i\",\"o\",\"u\"]\n",
    "val=input(\"Enter a char to check wether it's vowel or not!!!\")\n",
    "if val.lower() in vowel:\n",
    "    print(val,\"is a vowel!!!\")\n",
    "else:\n",
    "    print(val,\"is not  a vowel!!!\")"
   ]
  }
 ],
 "metadata": {
  "kernelspec": {
   "display_name": "Python 3",
   "language": "python",
   "name": "python3"
  },
  "language_info": {
   "codemirror_mode": {
    "name": "ipython",
    "version": 3
   },
   "file_extension": ".py",
   "mimetype": "text/x-python",
   "name": "python",
   "nbconvert_exporter": "python",
   "pygments_lexer": "ipython3",
   "version": "3.7.4"
  }
 },
 "nbformat": 4,
 "nbformat_minor": 2
}
